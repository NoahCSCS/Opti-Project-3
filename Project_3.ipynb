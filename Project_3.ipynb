{
 "cells": [
  {
   "cell_type": "markdown",
   "id": "df499d7a",
   "metadata": {},
   "source": [
    "# Project 3\n",
    "### Tanushree Balaji (tb33857)\n",
    "### Nicolay Huarancay (nh23865)\n",
    "### Neel Sheeth (nds967)\n",
    "### Noah Shimizu (ncs838)"
   ]
  },
  {
   "cell_type": "code",
   "execution_count": 1,
   "id": "7592fe42",
   "metadata": {
    "id": "Gyl1eqvMOD5p"
   },
   "outputs": [],
   "source": [
    "import numpy as np\n",
    "from IPython.display import clear_output\n",
    "import tensorflow as tf\n",
    "import time\n",
    "from tensorflow.keras.models import Model\n",
    "from tensorflow.keras.layers import Dense, Flatten, Dropout, Conv2D, Input, MaxPool2D"
   ]
  },
  {
   "cell_type": "code",
   "execution_count": 2,
   "id": "5fed959e",
   "metadata": {
    "colab": {
     "base_uri": "https://localhost:8080/",
     "height": 35
    },
    "id": "3mVswq4nOD5s",
    "outputId": "34e2b9aa-a1a8-46b1-f1c5-a3b2e2a21a64"
   },
   "outputs": [
    {
     "data": {
      "text/plain": [
       "''"
      ]
     },
     "execution_count": 2,
     "metadata": {},
     "output_type": "execute_result"
    }
   ],
   "source": [
    "tf.test.gpu_device_name()"
   ]
  },
  {
   "cell_type": "markdown",
   "id": "7f2a7637",
   "metadata": {
    "id": "pCcgHAMxOD5t"
   },
   "source": [
    "# board structure\n",
    "instead of using colors, we'll use +1 for one player and -1 for the other player."
   ]
  },
  {
   "cell_type": "code",
   "execution_count": 3,
   "id": "45db17ce",
   "metadata": {
    "id": "-nr7I3wJOD5u"
   },
   "outputs": [],
   "source": [
    "def update_board(board_temp,color,column):\n",
    "    # this is a function that takes the current board status, a color, and a column and outputs the new board status\n",
    "    # columns 0 - 6 are for putting a checker on the board: if column is full just return the current board...this should be forbidden by the player\n",
    "    # columns 7 - 13 are for pulling a checker off the board: this does not check if removing the checker is allowed...\n",
    "    # \n",
    "    # the color input should be either 'plus' or 'minus'\n",
    "    \n",
    "    board = board_temp.copy()\n",
    "    ncol = board.shape[1]\n",
    "    nrow = board.shape[0]\n",
    "    if column < ncol: # drop a checker on the board\n",
    "        row = -1\n",
    "        # start by assuming you can't add to the column\n",
    "        # loop through the rows checking if you can go to each row or not\n",
    "        for check in range(nrow):\n",
    "            if (board[check,column]!=0):\n",
    "                break # if this row is occupied, you're done\n",
    "            else: # otherwise, you can go on this row!\n",
    "                row += 1\n",
    "\n",
    "        if row >= 0: # if you can add to the column\n",
    "            if color == 'plus': # check the color\n",
    "                board[row,column] = 1\n",
    "            else:\n",
    "                board[row,column] = -1\n",
    "        return board\n",
    "    else:\n",
    "        column -= ncol\n",
    "        if column >= ncol:\n",
    "            return board # can't play anything bigger than 13...\n",
    "        board[1:,column] = board[:-1,column].copy()\n",
    "        board[0,column] = 0\n",
    "        return board"
   ]
  },
  {
   "cell_type": "code",
   "execution_count": 4,
   "id": "819e45e5",
   "metadata": {
    "colab": {
     "base_uri": "https://localhost:8080/"
    },
    "id": "g8CthKxNOD5u",
    "outputId": "632aba4c-295b-44fc-9db3-2a842b873d2f"
   },
   "outputs": [
    {
     "name": "stdout",
     "output_type": "stream",
     "text": [
      "[[0. 0. 0. 0. 0. 0. 0.]\n",
      " [0. 0. 0. 0. 0. 0. 0.]\n",
      " [0. 0. 0. 0. 0. 0. 0.]\n",
      " [0. 0. 0. 0. 0. 0. 0.]\n",
      " [0. 0. 0. 0. 0. 0. 0.]\n",
      " [0. 0. 0. 1. 0. 0. 0.]]\n",
      "---------------------\n",
      "[[ 0.  0.  0.  0.  0.  0.  0.]\n",
      " [ 0.  0.  0.  0.  0.  0.  0.]\n",
      " [ 0.  0.  0.  0.  0.  0.  0.]\n",
      " [ 0.  0.  0.  0.  0.  0.  0.]\n",
      " [ 0.  0.  0. -1.  0.  0.  0.]\n",
      " [ 0.  0.  0.  1.  0.  0.  0.]]\n",
      "---------------------\n",
      "[[ 0.  0.  0.  0.  0.  0.  0.]\n",
      " [ 0.  0.  0.  0.  0.  0.  0.]\n",
      " [ 0.  0.  0.  0.  0.  0.  0.]\n",
      " [ 0.  0.  0.  0.  0.  0.  0.]\n",
      " [ 0.  0.  0.  0.  0.  0.  0.]\n",
      " [ 0.  0.  0. -1.  0.  0.  0.]]\n"
     ]
    }
   ],
   "source": [
    "board = np.zeros((6,7))\n",
    "board = update_board(board,'plus',3)\n",
    "print(board)\n",
    "print('---------------------')\n",
    "board = update_board(board,'minus',3)\n",
    "print(board)\n",
    "print('---------------------')\n",
    "board = update_board(board,'plus',10)\n",
    "print(board)"
   ]
  },
  {
   "cell_type": "code",
   "execution_count": 5,
   "id": "96d405a9",
   "metadata": {
    "id": "UuMIWoOrOD5v"
   },
   "outputs": [],
   "source": [
    "def check_for_win(board):\n",
    "    # this function checks to see if anyone has won on the given board\n",
    "    nrow = board.shape[0]\n",
    "    ncol = board.shape[1]\n",
    "    winner = 'nobody'\n",
    "    for row in range(nrow):\n",
    "        for col in range(ncol):\n",
    "            # check for vertical winners\n",
    "            if row <= (nrow-4): # can't have a column go from rows 4-7...\n",
    "                if np.sum(board[row:(row+4),col])==4:\n",
    "                    winner = 'v-plus'\n",
    "                    return winner\n",
    "                elif np.sum(board[row:(row+4),col])==-4:\n",
    "                    winner = 'v-minus'\n",
    "                    return winner\n",
    "            # check for horizontal winners\n",
    "            if col <= (ncol-4):\n",
    "                if np.sum(board[row,col:(col+4)])==4:\n",
    "                    winner = 'h-plus'\n",
    "                    return winner\n",
    "                elif np.sum(board[row,col:(col+4)])==-4:\n",
    "                    winner = 'h-minus'\n",
    "                    return winner\n",
    "            # check for top left to bottom right diagonal winners\n",
    "            if (row <= (nrow-4)) and (col <= (ncol-4)):\n",
    "                if np.sum(board[range(row,row+4),range(col,col+4)])==4:\n",
    "                    winner = 'd-plus'\n",
    "                    return winner\n",
    "                elif np.sum(board[range(row,row+4),range(col,col+4)])==-4:\n",
    "                    winner = 'd-minus'\n",
    "                    return winner\n",
    "            # check for top right to bottom left diagonal winners\n",
    "            if (row <= (nrow-4)) and (col >= 3):\n",
    "                if np.sum(board[range(row,row+4),range(col,col-4,-1)])==4:\n",
    "                    winner = 'd-plus'\n",
    "                    return winner\n",
    "                elif np.sum(board[range(row,row+4),range(col,col-4,-1)])==-4:\n",
    "                    winner = 'd-minus'\n",
    "                    return winner\n",
    "    return winner"
   ]
  },
  {
   "cell_type": "code",
   "execution_count": 6,
   "id": "c6bac825",
   "metadata": {
    "id": "qeEBtkLqOD5w"
   },
   "outputs": [],
   "source": [
    "def display_board(board):\n",
    "    # this function displays the board as ascii using X for +1 and O for -1\n",
    "    clear_output()\n",
    "    horizontal_line = '-'*(7*5+8)\n",
    "    blank_line = '|'+' '*5\n",
    "    blank_line *= 7\n",
    "    blank_line += '|'\n",
    "    print(horizontal_line)\n",
    "    for row in range(6):\n",
    "        print(blank_line)\n",
    "        this_line = '|'\n",
    "        for col in range(7):\n",
    "            if board[row,col] == 0:\n",
    "                this_line += ' '*5 + '|'\n",
    "            elif board[row,col] == 1:\n",
    "                this_line += '  X  |'\n",
    "            else:\n",
    "                this_line += '  O  |'\n",
    "        print(this_line)\n",
    "        print(blank_line)\n",
    "        print(horizontal_line)\n",
    "\n",
    "            "
   ]
  },
  {
   "cell_type": "code",
   "execution_count": 7,
   "id": "f94756f4",
   "metadata": {},
   "outputs": [],
   "source": [
    "def is_legal(board, player, move):\n",
    "    player = {\"plus\": 1, \"minus\": -1}[player]\n",
    "    if(move < 7):\n",
    "        return board[0,move] == 0\n",
    "    return board[-1, move%7] == player\n",
    "\n",
    "def where_legal(board, player):\n",
    "    # Return indices of where legal to move\n",
    "    player = {\"plus\": 1, \"minus\": -1}[player]\n",
    "    answer = np.zeros(14)\n",
    "    answer[:7] = board[0] == 0\n",
    "    answer[7:] = board[-1] == player\n",
    "    return answer"
   ]
  },
  {
   "cell_type": "code",
   "execution_count": 8,
   "id": "11dc1e88",
   "metadata": {
    "id": "BUj7InQnOD5x",
    "outputId": "f47293e1-d03e-43ff-bf97-ef14e49c2d6f"
   },
   "outputs": [
    {
     "name": "stdout",
     "output_type": "stream",
     "text": [
      "-------------------------------------------\n",
      "|     |     |     |     |     |     |     |\n",
      "|     |     |     |     |     |     |     |\n",
      "|     |     |     |     |     |     |     |\n",
      "-------------------------------------------\n",
      "|     |     |     |     |     |     |     |\n",
      "|     |     |     |     |     |     |     |\n",
      "|     |     |     |     |     |     |     |\n",
      "-------------------------------------------\n",
      "|     |     |     |     |     |     |     |\n",
      "|     |     |     |     |     |     |     |\n",
      "|     |     |     |     |     |     |     |\n",
      "-------------------------------------------\n",
      "|     |     |     |     |     |     |     |\n",
      "|  O  |  X  |     |     |     |     |     |\n",
      "|     |     |     |     |     |     |     |\n",
      "-------------------------------------------\n",
      "|     |     |     |     |     |     |     |\n",
      "|  O  |  X  |     |     |     |     |     |\n",
      "|     |     |     |     |     |     |     |\n",
      "-------------------------------------------\n",
      "|     |     |     |     |     |     |     |\n",
      "|  O  |  X  |     |     |     |     |     |\n",
      "|     |     |     |     |     |     |     |\n",
      "-------------------------------------------\n",
      "Pick a move (0-13) for player plus: 1\n",
      "The winner is v-plus\n"
     ]
    }
   ],
   "source": [
    "# this is how you can play a game\n",
    "winner = 'nobody'\n",
    "board = np.zeros((6,7))\n",
    "display_board(board)\n",
    "player = 'plus'\n",
    "while winner == 'nobody':\n",
    "    display_board(board)\n",
    "    legal_move = False\n",
    "    while(not legal_move):\n",
    "        move = input('Pick a move (0-13) for player '+player+': ')\n",
    "        move = int(move)\n",
    "        legal_move = is_legal(board, player, move)\n",
    "    board = update_board(board,player,move)\n",
    "    winner = check_for_win(board)\n",
    "    if player == 'plus':\n",
    "        player = 'minus'\n",
    "    else:\n",
    "        player = 'plus'\n",
    "print('The winner is '+winner)\n",
    "    \n",
    "    "
   ]
  },
  {
   "cell_type": "markdown",
   "id": "a48a354d",
   "metadata": {},
   "source": [
    "### Various Model Architectures that were tested"
   ]
  },
  {
   "cell_type": "code",
   "execution_count": 35,
   "id": "7535b5cb",
   "metadata": {
    "id": "WbuqkUlsOD5x"
   },
   "outputs": [],
   "source": [
    "def create_model(height,width,channels):\n",
    "    # we cannot simply have 3 output nodes because we want to put a weight on each node's impact to the objective\n",
    "    # that is different for each data point.  the only way to achieve this is to have 3 output layers, each having 1 node\n",
    "    # the effect is the same, just the way TF/keras handles weights is different\n",
    "    imp = Input(shape=(height,width,channels))\n",
    "    mid = Conv2D(32, (2,2), activation='tanh')(imp)\n",
    "    mid = Conv2D(64, (2,2), activation='tanh')(mid)\n",
    "    mid = Conv2D(64, (2,2), activation='tanh')(mid)\n",
    "    mid = Flatten()(mid)\n",
    "    mid = Dense(128,activation='relu')(mid) # could also use a tanh activation function...all VFs are between -1 to 1\n",
    "    mid = Dense(64,activation='relu')(mid) # could also use a tanh activation function...all VFs are between -1 to 1\n",
    "    mid = Dense(64,activation='relu')(mid) # could also use a tanh activation function...all VFs are between -1 to 1\n",
    "    out = Dense(14, activation='linear')(mid) # could also use a tanh activation function...all VFs are between -1 to 1\n",
    "    model = Model(imp,out) \n",
    "    \n",
    "    model.compile(optimizer=tf.keras.optimizers.Adam(learning_rate=1e-4),loss='mean_squared_error')\n",
    "    \n",
    "    return model"
   ]
  },
  {
   "cell_type": "code",
   "execution_count": 200,
   "id": "940727b1",
   "metadata": {
    "id": "A0X-WXjTOD5y"
   },
   "outputs": [],
   "source": [
    "def create_model2(height,width,channels):\n",
    "    # we cannot simply have 3 output nodes because we want to put a weight on each node's impact to the objective\n",
    "    # that is different for each data point.  the only way to achieve this is to have 3 output layers, each having 1 node\n",
    "    # the effect is the same, just the way TF/keras handles weights is different\n",
    "    imp = Input(shape=(height,width,channels))\n",
    "    mid = Conv2D(64, (4,4), activation='relu')(imp)\n",
    "    mid = Conv2D(64, (2,2), activation='relu')(mid)\n",
    "    mid = Conv2D(64, (2,2), activation='relu')(mid)\n",
    "    mid = Flatten()(mid)\n",
    "    mid = Dense(100,activation='relu')(mid)\n",
    "    mid = Dense(64,activation='relu')(mid) \n",
    "    out = Dense(14, activation='tanh')(mid) # could also use a tanh activation function...all VFs are between -1 to 1\n",
    "    model = Model(imp,out) \n",
    "    \n",
    "    model.compile(optimizer=tf.keras.optimizers.Adam(learning_rate=1e-4),loss='mean_squared_error')\n",
    "    \n",
    "    return model"
   ]
  },
  {
   "cell_type": "code",
   "execution_count": 442,
   "id": "8642e88e",
   "metadata": {},
   "outputs": [],
   "source": [
    "def create_model3(height,width,channels):\n",
    "    # we cannot simply have 3 output nodes because we want to put a weight on each node's impact to the objective\n",
    "    # that is different for each data point.  the only way to achieve this is to have 3 output layers, each having 1 node\n",
    "    # the effect is the same, just the way TF/keras handles weights is different\n",
    "    imp = Input(shape=(height,width,channels))\n",
    "    mid = Conv2D(50, (4,4), activation='relu')(imp)\n",
    "    mid = Conv2D(75, (2,2), activation='relu')(mid)\n",
    "    mid = Conv2D(100, (2,2), activation='relu')(mid)\n",
    "    mid = Flatten()(mid)\n",
    "    mid = Dense(64,activation='relu')(mid)\n",
    "    mid = Dense(64,activation='relu')(mid) \n",
    "    out = Dense(14, activation='tanh')(mid) # could also use a tanh activation function...all VFs are between -1 to 1\n",
    "    model = Model(imp,out) \n",
    "    \n",
    "    model.compile(optimizer=tf.keras.optimizers.Adam(learning_rate=1e-4),loss='mean_squared_error')\n",
    "    \n",
    "    return model"
   ]
  },
  {
   "cell_type": "markdown",
   "id": "aac6c828",
   "metadata": {},
   "source": [
    "### Some helper functions for finding the best move and best value"
   ]
  },
  {
   "cell_type": "code",
   "execution_count": 14,
   "id": "64adac71",
   "metadata": {},
   "outputs": [],
   "source": [
    "def best_move(board, player):\n",
    "    # Returns best move for a model\n",
    "    mod = players[player]\n",
    "    values = mod(np.expand_dims(board,[0,3]),training=False)\n",
    "    legal_values = values + 2*where_legal(board, player)\n",
    "    return np.argmax(legal_values[0])\n",
    "\n",
    "def best_value(board, player):\n",
    "    # Returns value for the best move of a model\n",
    "    mod = players[player]\n",
    "    values = mod(np.expand_dims(board,[0,3]),training=False)\n",
    "    legal_values = values + 2*where_legal(board, player)\n",
    "    return np.max(legal_values[0]) - 2"
   ]
  },
  {
   "cell_type": "markdown",
   "id": "a799eec9",
   "metadata": {},
   "source": [
    "### Setup the training"
   ]
  },
  {
   "cell_type": "code",
   "execution_count": 444,
   "id": "44cebc6d",
   "metadata": {
    "id": "Ck3k3CRdOD5y"
   },
   "outputs": [],
   "source": [
    "warmupframes = 10000\n",
    "max_frames = 10000000+warmupframes\n",
    "tot_frames = 0\n",
    "anneal1 = 10000\n",
    "anneal2 = 100000\n",
    "batch_size = 32\n",
    "buffn = 5000\n",
    "\n",
    "len_buff = 0\n",
    "ep0 = 0.95\n",
    "ep1 = 0.1\n",
    "ep2 = 0.05\n",
    "ep = ep0\n",
    "dep1 = (ep0-ep1)/anneal1\n",
    "dep2 = (ep1-ep2)/anneal2\n",
    "buffer = {\"plus\":[],\n",
    "          \"minus\":[]}\n",
    "buffer_nf = {\"plus\":[],\n",
    "              \"minus\":[]}\n",
    "buffer_ac = {\"plus\":[],\n",
    "              \"minus\":[]}\n",
    "buffer_rw = {\"plus\":[],\n",
    "              \"minus\":[]}\n",
    "mse_loss = tf.keras.losses.MeanSquaredError()\n",
    "\n",
    "game_num = 0"
   ]
  },
  {
   "cell_type": "code",
   "execution_count": 621,
   "id": "819ea1c6",
   "metadata": {},
   "outputs": [],
   "source": [
    "batch_size = 32\n",
    "ep2 = 0.05\n",
    "ep = 0.05"
   ]
  },
  {
   "cell_type": "code",
   "execution_count": 446,
   "id": "0270c7f7",
   "metadata": {
    "colab": {
     "base_uri": "https://localhost:8080/"
    },
    "id": "abAA8wwTOD5y",
    "outputId": "5dca8b64-8fba-4e28-d8d6-ef0c25e33b3b"
   },
   "outputs": [
    {
     "name": "stdout",
     "output_type": "stream",
     "text": [
      "Model: \"model_56\"\n",
      "_________________________________________________________________\n",
      " Layer (type)                Output Shape              Param #   \n",
      "=================================================================\n",
      " input_57 (InputLayer)       [(None, 6, 7, 1)]         0         \n",
      "                                                                 \n",
      " conv2d_168 (Conv2D)         (None, 3, 4, 50)          850       \n",
      "                                                                 \n",
      " conv2d_169 (Conv2D)         (None, 2, 3, 75)          15075     \n",
      "                                                                 \n",
      " conv2d_170 (Conv2D)         (None, 1, 2, 100)         30100     \n",
      "                                                                 \n",
      " flatten_56 (Flatten)        (None, 200)               0         \n",
      "                                                                 \n",
      " dense_168 (Dense)           (None, 64)                12864     \n",
      "                                                                 \n",
      " dense_169 (Dense)           (None, 64)                4160      \n",
      "                                                                 \n",
      " dense_170 (Dense)           (None, 14)                910       \n",
      "                                                                 \n",
      "=================================================================\n",
      "Total params: 63,959\n",
      "Trainable params: 63,959\n",
      "Non-trainable params: 0\n",
      "_________________________________________________________________\n"
     ]
    }
   ],
   "source": [
    "frames_to_net = 1              # how many previous frames will we feed the NN\n",
    "possible_actions = np.arange(14)\n",
    "delt = 0.95\n",
    "player1 = create_model3(6,7,frames_to_net)\n",
    "player1.call = tf.function(player1.call,experimental_relax_shapes=True,reduce_retracing=True)\n",
    "\n",
    "player2 = create_model3(6,7,frames_to_net)\n",
    "player2.call = tf.function(player2.call,experimental_relax_shapes=True,reduce_retracing=True)\n",
    "\n",
    "players = {\"plus\":player1, \"minus\":player2 }\n",
    "\n",
    "player1.summary()"
   ]
  },
  {
   "cell_type": "markdown",
   "id": "987bb002",
   "metadata": {},
   "source": [
    "### Train"
   ]
  },
  {
   "cell_type": "code",
   "execution_count": 635,
   "id": "db2bdfa2",
   "metadata": {
    "colab": {
     "base_uri": "https://localhost:8080/"
    },
    "id": "OUb26SKTOD5z",
    "outputId": "b0cbfc41-f792-4d7d-b9ba-64847b6f9702"
   },
   "outputs": [
    {
     "name": "stdout",
     "output_type": "stream",
     "text": [
      "7262 v-plus 0.05 160577 9.93608570098877\n",
      "7263 d-plus 0.05 160598 6.3418707847595215\n",
      "7264 v-plus 0.05 160623 7.654531717300415\n",
      "7265 v-minus 0.05 160643 5.791690826416016\n",
      "7266 h-plus 0.05 160666 6.389845371246338\n",
      "7267 v-minus 0.05 160688 6.1801464557647705\n",
      "7268 v-minus 0.05 160714 7.33769416809082\n",
      "7269 d-plus 0.05 160725 3.158633232116699\n",
      "7270 d-plus 0.05 160736 3.1688833236694336\n",
      "7271 d-plus 0.05 160747 3.262704372406006\n",
      "7272 d-minus 0.05 160767 5.894834756851196\n",
      "7273 h-minus 0.05 160787 5.707542896270752\n",
      "7274 v-minus 0.05 160809 6.274221897125244\n",
      "7275 h-plus 0.05 160836 7.681342363357544\n",
      "7276 v-minus 0.05 160854 5.130181789398193\n",
      "7277 v-minus 0.05 160872 5.180473327636719\n",
      "7278 d-minus 0.05 160886 4.021931886672974\n",
      "7279 d-plus 0.05 160917 8.916974306106567\n",
      "7280 d-plus 0.05 160954 10.657253503799438\n",
      "7281 v-plus 0.05 160975 5.9375903606414795\n",
      "7282 d-plus 0.05 160988 3.6627206802368164\n",
      "7283 d-plus 0.05 161001 3.707719326019287\n",
      "7284 d-plus 0.05 161028 7.695607900619507\n",
      "7285 h-minus 0.05 161058 8.50467324256897\n",
      "7286 h-minus 0.05 161082 6.864324331283569\n",
      "7287 d-plus 0.05 161095 3.7093822956085205\n",
      "7288 v-minus 0.05 161115 5.775732517242432\n",
      "7289 d-plus 0.05 161128 3.7165720462799072\n",
      "7290 d-plus 0.05 161155 7.6724019050598145\n",
      "7291 d-plus 0.05 161168 3.7184219360351562\n",
      "7292 h-minus 0.05 161207 11.179409742355347\n",
      "7293 d-plus 0.05 161220 3.8963704109191895\n",
      "7294 v-plus 0.05 161239 5.90703821182251\n",
      "7295 d-plus 0.05 161252 3.9159135818481445\n",
      "7296 v-plus 0.05 161273 6.328744411468506\n",
      "7297 v-minus 0.05 161293 6.026370048522949\n",
      "7298 d-plus 0.05 161312 5.617364168167114\n",
      "7299 v-plus 0.05 161329 4.850251197814941\n",
      "7300 d-plus 0.05 161344 4.392996549606323\n",
      "7301 v-minus 0.05 161364 5.847734689712524\n",
      "7302 v-plus 0.05 161383 5.445039987564087\n",
      "7303 h-minus 0.05 161409 7.575820684432983\n",
      "7304 v-plus 0.05 161426 5.053153038024902\n",
      "7305 v-plus 0.05 161441 4.5536885261535645\n",
      "7306 h-minus 0.05 161455 4.2988104820251465\n",
      "7307 h-plus 0.05 161486 8.837220668792725\n",
      "7308 h-minus 0.05 161516 8.571665525436401\n",
      "7309 h-plus 0.05 161538 6.325059413909912\n",
      "7310 d-plus 0.05 161565 7.709758758544922\n",
      "7311 h-minus 0.05 161601 10.197865724563599\n",
      "7312 d-plus 0.05 161624 6.408550262451172\n",
      "7313 d-minus 0.05 161644 5.732903003692627\n",
      "7314 v-plus 0.05 161669 7.095259189605713\n",
      "7315 d-minus 0.05 161707 10.777590036392212\n",
      "7316 h-minus 0.05 161726 5.371307134628296\n",
      "7317 h-minus 0.05 161744 5.146245718002319\n",
      "7318 h-minus 0.05 161772 8.05347728729248\n",
      "7319 v-minus 0.05 161804 8.930808067321777\n",
      "7320 h-minus 0.05 161829 6.982500314712524\n",
      "7321 d-plus 0.05 161858 8.279116153717041\n",
      "7322 v-minus 0.05 161884 7.413616418838501\n",
      "7323 h-minus 0.05 161898 4.078710317611694\n",
      "7324 v-minus 0.05 161920 6.553729295730591\n",
      "7325 h-minus 0.05 161940 5.891786098480225\n",
      "7326 v-minus 0.05 161960 5.784146070480347\n",
      "7327 h-minus 0.05 161988 7.997368574142456\n",
      "7328 v-minus 0.05 161996 2.2955453395843506\n",
      "7329 d-plus 0.05 162025 8.724075555801392\n",
      "7330 h-plus 0.05 162044 5.692450523376465\n",
      "7331 h-plus 0.05 162083 11.480337858200073\n",
      "7332 d-plus 0.05 162106 6.635586738586426\n",
      "7333 v-plus 0.05 162123 4.905351161956787\n",
      "7334 v-minus 0.05 162155 9.121465682983398\n",
      "7335 h-minus 0.05 162179 6.816816568374634\n",
      "7336 h-plus 0.05 162202 6.770316123962402\n",
      "7337 h-minus 0.05 162224 6.416827201843262\n",
      "7338 h-minus 0.05 162242 5.145603656768799\n",
      "7339 v-plus 0.05 162259 4.857680559158325\n",
      "7340 v-plus 0.05 162280 6.214075565338135\n",
      "7341 d-minus 0.05 162306 7.483330011367798\n",
      "7342 v-plus 0.05 162321 4.29943585395813\n",
      "7343 h-minus 0.05 162345 6.9177186489105225\n",
      "7344 v-plus 0.05 162358 3.7554168701171875\n",
      "7345 h-minus 0.05 162382 6.89867901802063\n",
      "7346 h-minus 0.05 162408 7.441133737564087\n",
      "7347 h-minus 0.05 162432 6.892594814300537\n",
      "7348 h-plus 0.05 162441 2.6811931133270264\n",
      "7349 v-minus 0.05 162459 5.192724704742432\n",
      "7350 h-minus 0.05 162481 6.52230167388916\n",
      "7351 d-plus 0.05 162508 7.950348377227783\n",
      "7352 h-plus 0.05 162527 5.348665714263916\n",
      "7353 d-minus 0.05 162545 5.068888425827026\n",
      "7354 d-minus 0.05 162565 5.656146287918091\n",
      "7355 d-minus 0.05 162590 7.181739807128906\n",
      "7356 d-minus 0.05 162620 8.579227209091187\n",
      "7357 h-plus 0.05 162643 6.555480718612671\n",
      "7358 d-minus 0.05 162663 5.7506208419799805\n",
      "7359 v-minus 0.05 162687 6.785700798034668\n",
      "7360 h-plus 0.05 162712 7.069436550140381\n",
      "7361 v-minus 0.05 162730 5.09471321105957\n",
      "7362 v-minus 0.05 162746 4.52780294418335\n",
      "7363 h-plus 0.05 162782 10.38218355178833\n",
      "7364 h-minus 0.05 162806 6.846442937850952\n",
      "7365 h-minus 0.05 162830 6.8462419509887695\n",
      "7366 v-plus 0.05 162851 5.96956729888916\n",
      "7367 h-minus 0.05 162873 6.422664642333984\n",
      "7368 d-minus 0.05 162905 9.345268249511719\n",
      "7369 h-minus 0.05 162931 7.4452009201049805\n",
      "7370 h-plus 0.05 162954 6.607290506362915\n",
      "7371 h-plus 0.05 162977 6.850673675537109\n",
      "7372 v-minus 0.05 163005 8.254487752914429\n",
      "7373 v-plus 0.05 163018 3.7649385929107666\n",
      "7374 v-plus 0.05 163043 7.24365234375\n",
      "7375 h-minus 0.05 163053 2.856971025466919\n",
      "7376 h-plus 0.05 163079 7.378130197525024\n",
      "7377 h-plus 0.05 163110 8.790875911712646\n",
      "7378 h-plus 0.05 163133 6.5434651374816895\n",
      "7379 d-minus 0.05 163166 9.451725006103516\n",
      "7380 v-plus 0.05 163193 7.649797677993774\n",
      "7381 v-minus 0.05 163225 9.359907627105713\n",
      "7382 v-minus 0.05 163253 8.235159158706665\n",
      "7383 d-minus 0.05 163281 7.95778751373291\n",
      "7384 v-plus 0.05 163300 5.428483486175537\n",
      "7385 v-minus 0.05 163314 4.003420352935791\n",
      "7386 v-minus 0.05 163328 4.038614988327026\n",
      "7387 v-plus 0.05 163363 9.968497276306152\n",
      "7388 v-minus 0.05 163391 7.98276162147522\n",
      "7389 d-minus 0.05 163429 10.768799543380737\n",
      "7390 d-plus 0.05 163454 7.083712100982666\n",
      "7391 v-minus 0.05 163466 3.4847559928894043\n",
      "7392 v-minus 0.05 163478 3.48911190032959\n",
      "7393 d-plus 0.05 163499 6.080142259597778\n",
      "7394 v-minus 0.05 163521 6.375481605529785\n",
      "7395 d-minus 0.05 163548 8.35925817489624\n",
      "7396 d-plus 0.05 163571 7.037055015563965\n",
      "7397 h-plus 0.05 163582 3.384960651397705\n",
      "7398 v-minus 0.05 163594 3.5812575817108154\n",
      "7399 v-minus 0.05 163632 11.510755062103271\n"
     ]
    },
    {
     "ename": "KeyboardInterrupt",
     "evalue": "",
     "output_type": "error",
     "traceback": [
      "\u001b[1;31m---------------------------------------------------------------------------\u001b[0m",
      "\u001b[1;31mKeyboardInterrupt\u001b[0m                         Traceback (most recent call last)",
      "\u001b[1;32m<ipython-input-635-65c20ff68f51>\u001b[0m in \u001b[0;36m<module>\u001b[1;34m\u001b[0m\n\u001b[0;32m     70\u001b[0m                 \u001b[1;31m# Construct next frames\u001b[0m\u001b[1;33m\u001b[0m\u001b[1;33m\u001b[0m\u001b[1;33m\u001b[0m\u001b[0m\n\u001b[0;32m     71\u001b[0m                 \u001b[1;31m# Find opponent's rewards for moves\u001b[0m\u001b[1;33m\u001b[0m\u001b[1;33m\u001b[0m\u001b[1;33m\u001b[0m\u001b[0m\n\u001b[1;32m---> 72\u001b[1;33m                 \u001b[0mop_rewards\u001b[0m \u001b[1;33m=\u001b[0m \u001b[0mopp_mod\u001b[0m\u001b[1;33m(\u001b[0m\u001b[0mnext_frames\u001b[0m\u001b[1;33m,\u001b[0m \u001b[0mtraining\u001b[0m \u001b[1;33m=\u001b[0m \u001b[1;32mFalse\u001b[0m\u001b[1;33m)\u001b[0m\u001b[1;33m\u001b[0m\u001b[1;33m\u001b[0m\u001b[0m\n\u001b[0m\u001b[0;32m     73\u001b[0m \u001b[1;33m\u001b[0m\u001b[0m\n\u001b[0;32m     74\u001b[0m                 \u001b[1;31m# Check legal moves\u001b[0m\u001b[1;33m\u001b[0m\u001b[1;33m\u001b[0m\u001b[1;33m\u001b[0m\u001b[0m\n",
      "\u001b[1;32mC:\\ProgramData\\Anaconda3\\lib\\site-packages\\keras\\utils\\traceback_utils.py\u001b[0m in \u001b[0;36merror_handler\u001b[1;34m(*args, **kwargs)\u001b[0m\n\u001b[0;32m     63\u001b[0m         \u001b[0mfiltered_tb\u001b[0m \u001b[1;33m=\u001b[0m \u001b[1;32mNone\u001b[0m\u001b[1;33m\u001b[0m\u001b[1;33m\u001b[0m\u001b[0m\n\u001b[0;32m     64\u001b[0m         \u001b[1;32mtry\u001b[0m\u001b[1;33m:\u001b[0m\u001b[1;33m\u001b[0m\u001b[1;33m\u001b[0m\u001b[0m\n\u001b[1;32m---> 65\u001b[1;33m             \u001b[1;32mreturn\u001b[0m \u001b[0mfn\u001b[0m\u001b[1;33m(\u001b[0m\u001b[1;33m*\u001b[0m\u001b[0margs\u001b[0m\u001b[1;33m,\u001b[0m \u001b[1;33m**\u001b[0m\u001b[0mkwargs\u001b[0m\u001b[1;33m)\u001b[0m\u001b[1;33m\u001b[0m\u001b[1;33m\u001b[0m\u001b[0m\n\u001b[0m\u001b[0;32m     66\u001b[0m         \u001b[1;32mexcept\u001b[0m \u001b[0mException\u001b[0m \u001b[1;32mas\u001b[0m \u001b[0me\u001b[0m\u001b[1;33m:\u001b[0m\u001b[1;33m\u001b[0m\u001b[1;33m\u001b[0m\u001b[0m\n\u001b[0;32m     67\u001b[0m             \u001b[0mfiltered_tb\u001b[0m \u001b[1;33m=\u001b[0m \u001b[0m_process_traceback_frames\u001b[0m\u001b[1;33m(\u001b[0m\u001b[0me\u001b[0m\u001b[1;33m.\u001b[0m\u001b[0m__traceback__\u001b[0m\u001b[1;33m)\u001b[0m\u001b[1;33m\u001b[0m\u001b[1;33m\u001b[0m\u001b[0m\n",
      "\u001b[1;32mC:\\ProgramData\\Anaconda3\\lib\\site-packages\\keras\\engine\\training.py\u001b[0m in \u001b[0;36m__call__\u001b[1;34m(self, *args, **kwargs)\u001b[0m\n\u001b[0;32m    555\u001b[0m             \u001b[0mlayout_map_lib\u001b[0m\u001b[1;33m.\u001b[0m\u001b[0m_map_subclass_model_variable\u001b[0m\u001b[1;33m(\u001b[0m\u001b[0mself\u001b[0m\u001b[1;33m,\u001b[0m \u001b[0mself\u001b[0m\u001b[1;33m.\u001b[0m\u001b[0m_layout_map\u001b[0m\u001b[1;33m)\u001b[0m\u001b[1;33m\u001b[0m\u001b[1;33m\u001b[0m\u001b[0m\n\u001b[0;32m    556\u001b[0m \u001b[1;33m\u001b[0m\u001b[0m\n\u001b[1;32m--> 557\u001b[1;33m         \u001b[1;32mreturn\u001b[0m \u001b[0msuper\u001b[0m\u001b[1;33m(\u001b[0m\u001b[1;33m)\u001b[0m\u001b[1;33m.\u001b[0m\u001b[0m__call__\u001b[0m\u001b[1;33m(\u001b[0m\u001b[1;33m*\u001b[0m\u001b[0margs\u001b[0m\u001b[1;33m,\u001b[0m \u001b[1;33m**\u001b[0m\u001b[0mkwargs\u001b[0m\u001b[1;33m)\u001b[0m\u001b[1;33m\u001b[0m\u001b[1;33m\u001b[0m\u001b[0m\n\u001b[0m\u001b[0;32m    558\u001b[0m \u001b[1;33m\u001b[0m\u001b[0m\n\u001b[0;32m    559\u001b[0m     \u001b[1;33m@\u001b[0m\u001b[0mdoc_controls\u001b[0m\u001b[1;33m.\u001b[0m\u001b[0mdoc_in_current_and_subclasses\u001b[0m\u001b[1;33m\u001b[0m\u001b[1;33m\u001b[0m\u001b[0m\n",
      "\u001b[1;32mC:\\ProgramData\\Anaconda3\\lib\\site-packages\\keras\\utils\\traceback_utils.py\u001b[0m in \u001b[0;36merror_handler\u001b[1;34m(*args, **kwargs)\u001b[0m\n\u001b[0;32m     63\u001b[0m         \u001b[0mfiltered_tb\u001b[0m \u001b[1;33m=\u001b[0m \u001b[1;32mNone\u001b[0m\u001b[1;33m\u001b[0m\u001b[1;33m\u001b[0m\u001b[0m\n\u001b[0;32m     64\u001b[0m         \u001b[1;32mtry\u001b[0m\u001b[1;33m:\u001b[0m\u001b[1;33m\u001b[0m\u001b[1;33m\u001b[0m\u001b[0m\n\u001b[1;32m---> 65\u001b[1;33m             \u001b[1;32mreturn\u001b[0m \u001b[0mfn\u001b[0m\u001b[1;33m(\u001b[0m\u001b[1;33m*\u001b[0m\u001b[0margs\u001b[0m\u001b[1;33m,\u001b[0m \u001b[1;33m**\u001b[0m\u001b[0mkwargs\u001b[0m\u001b[1;33m)\u001b[0m\u001b[1;33m\u001b[0m\u001b[1;33m\u001b[0m\u001b[0m\n\u001b[0m\u001b[0;32m     66\u001b[0m         \u001b[1;32mexcept\u001b[0m \u001b[0mException\u001b[0m \u001b[1;32mas\u001b[0m \u001b[0me\u001b[0m\u001b[1;33m:\u001b[0m\u001b[1;33m\u001b[0m\u001b[1;33m\u001b[0m\u001b[0m\n\u001b[0;32m     67\u001b[0m             \u001b[0mfiltered_tb\u001b[0m \u001b[1;33m=\u001b[0m \u001b[0m_process_traceback_frames\u001b[0m\u001b[1;33m(\u001b[0m\u001b[0me\u001b[0m\u001b[1;33m.\u001b[0m\u001b[0m__traceback__\u001b[0m\u001b[1;33m)\u001b[0m\u001b[1;33m\u001b[0m\u001b[1;33m\u001b[0m\u001b[0m\n",
      "\u001b[1;32mC:\\ProgramData\\Anaconda3\\lib\\site-packages\\keras\\engine\\base_layer.py\u001b[0m in \u001b[0;36m__call__\u001b[1;34m(self, *args, **kwargs)\u001b[0m\n\u001b[0;32m   1095\u001b[0m                     \u001b[0mself\u001b[0m\u001b[1;33m.\u001b[0m\u001b[0m_compute_dtype_object\u001b[0m\u001b[1;33m\u001b[0m\u001b[1;33m\u001b[0m\u001b[0m\n\u001b[0;32m   1096\u001b[0m                 ):\n\u001b[1;32m-> 1097\u001b[1;33m                     \u001b[0moutputs\u001b[0m \u001b[1;33m=\u001b[0m \u001b[0mcall_fn\u001b[0m\u001b[1;33m(\u001b[0m\u001b[0minputs\u001b[0m\u001b[1;33m,\u001b[0m \u001b[1;33m*\u001b[0m\u001b[0margs\u001b[0m\u001b[1;33m,\u001b[0m \u001b[1;33m**\u001b[0m\u001b[0mkwargs\u001b[0m\u001b[1;33m)\u001b[0m\u001b[1;33m\u001b[0m\u001b[1;33m\u001b[0m\u001b[0m\n\u001b[0m\u001b[0;32m   1098\u001b[0m \u001b[1;33m\u001b[0m\u001b[0m\n\u001b[0;32m   1099\u001b[0m                 \u001b[1;32mif\u001b[0m \u001b[0mself\u001b[0m\u001b[1;33m.\u001b[0m\u001b[0m_activity_regularizer\u001b[0m\u001b[1;33m:\u001b[0m\u001b[1;33m\u001b[0m\u001b[1;33m\u001b[0m\u001b[0m\n",
      "\u001b[1;32mC:\\ProgramData\\Anaconda3\\lib\\site-packages\\keras\\utils\\traceback_utils.py\u001b[0m in \u001b[0;36merror_handler\u001b[1;34m(*args, **kwargs)\u001b[0m\n\u001b[0;32m     94\u001b[0m         \u001b[0mbound_signature\u001b[0m \u001b[1;33m=\u001b[0m \u001b[1;32mNone\u001b[0m\u001b[1;33m\u001b[0m\u001b[1;33m\u001b[0m\u001b[0m\n\u001b[0;32m     95\u001b[0m         \u001b[1;32mtry\u001b[0m\u001b[1;33m:\u001b[0m\u001b[1;33m\u001b[0m\u001b[1;33m\u001b[0m\u001b[0m\n\u001b[1;32m---> 96\u001b[1;33m             \u001b[1;32mreturn\u001b[0m \u001b[0mfn\u001b[0m\u001b[1;33m(\u001b[0m\u001b[1;33m*\u001b[0m\u001b[0margs\u001b[0m\u001b[1;33m,\u001b[0m \u001b[1;33m**\u001b[0m\u001b[0mkwargs\u001b[0m\u001b[1;33m)\u001b[0m\u001b[1;33m\u001b[0m\u001b[1;33m\u001b[0m\u001b[0m\n\u001b[0m\u001b[0;32m     97\u001b[0m         \u001b[1;32mexcept\u001b[0m \u001b[0mException\u001b[0m \u001b[1;32mas\u001b[0m \u001b[0me\u001b[0m\u001b[1;33m:\u001b[0m\u001b[1;33m\u001b[0m\u001b[1;33m\u001b[0m\u001b[0m\n\u001b[0;32m     98\u001b[0m             \u001b[1;32mif\u001b[0m \u001b[0mhasattr\u001b[0m\u001b[1;33m(\u001b[0m\u001b[0me\u001b[0m\u001b[1;33m,\u001b[0m \u001b[1;34m\"_keras_call_info_injected\"\u001b[0m\u001b[1;33m)\u001b[0m\u001b[1;33m:\u001b[0m\u001b[1;33m\u001b[0m\u001b[1;33m\u001b[0m\u001b[0m\n",
      "\u001b[1;32m~\\AppData\\Roaming\\Python\\Python38\\site-packages\\tensorflow\\python\\util\\traceback_utils.py\u001b[0m in \u001b[0;36merror_handler\u001b[1;34m(*args, **kwargs)\u001b[0m\n\u001b[0;32m    148\u001b[0m     \u001b[0mfiltered_tb\u001b[0m \u001b[1;33m=\u001b[0m \u001b[1;32mNone\u001b[0m\u001b[1;33m\u001b[0m\u001b[1;33m\u001b[0m\u001b[0m\n\u001b[0;32m    149\u001b[0m     \u001b[1;32mtry\u001b[0m\u001b[1;33m:\u001b[0m\u001b[1;33m\u001b[0m\u001b[1;33m\u001b[0m\u001b[0m\n\u001b[1;32m--> 150\u001b[1;33m       \u001b[1;32mreturn\u001b[0m \u001b[0mfn\u001b[0m\u001b[1;33m(\u001b[0m\u001b[1;33m*\u001b[0m\u001b[0margs\u001b[0m\u001b[1;33m,\u001b[0m \u001b[1;33m**\u001b[0m\u001b[0mkwargs\u001b[0m\u001b[1;33m)\u001b[0m\u001b[1;33m\u001b[0m\u001b[1;33m\u001b[0m\u001b[0m\n\u001b[0m\u001b[0;32m    151\u001b[0m     \u001b[1;32mexcept\u001b[0m \u001b[0mException\u001b[0m \u001b[1;32mas\u001b[0m \u001b[0me\u001b[0m\u001b[1;33m:\u001b[0m\u001b[1;33m\u001b[0m\u001b[1;33m\u001b[0m\u001b[0m\n\u001b[0;32m    152\u001b[0m       \u001b[0mfiltered_tb\u001b[0m \u001b[1;33m=\u001b[0m \u001b[0m_process_traceback_frames\u001b[0m\u001b[1;33m(\u001b[0m\u001b[0me\u001b[0m\u001b[1;33m.\u001b[0m\u001b[0m__traceback__\u001b[0m\u001b[1;33m)\u001b[0m\u001b[1;33m\u001b[0m\u001b[1;33m\u001b[0m\u001b[0m\n",
      "\u001b[1;32m~\\AppData\\Roaming\\Python\\Python38\\site-packages\\tensorflow\\python\\eager\\polymorphic_function\\polymorphic_function.py\u001b[0m in \u001b[0;36m__call__\u001b[1;34m(self, *args, **kwds)\u001b[0m\n\u001b[0;32m    878\u001b[0m \u001b[1;33m\u001b[0m\u001b[0m\n\u001b[0;32m    879\u001b[0m       \u001b[1;32mwith\u001b[0m \u001b[0mOptionalXlaContext\u001b[0m\u001b[1;33m(\u001b[0m\u001b[0mself\u001b[0m\u001b[1;33m.\u001b[0m\u001b[0m_jit_compile\u001b[0m\u001b[1;33m)\u001b[0m\u001b[1;33m:\u001b[0m\u001b[1;33m\u001b[0m\u001b[1;33m\u001b[0m\u001b[0m\n\u001b[1;32m--> 880\u001b[1;33m         \u001b[0mresult\u001b[0m \u001b[1;33m=\u001b[0m \u001b[0mself\u001b[0m\u001b[1;33m.\u001b[0m\u001b[0m_call\u001b[0m\u001b[1;33m(\u001b[0m\u001b[1;33m*\u001b[0m\u001b[0margs\u001b[0m\u001b[1;33m,\u001b[0m \u001b[1;33m**\u001b[0m\u001b[0mkwds\u001b[0m\u001b[1;33m)\u001b[0m\u001b[1;33m\u001b[0m\u001b[1;33m\u001b[0m\u001b[0m\n\u001b[0m\u001b[0;32m    881\u001b[0m \u001b[1;33m\u001b[0m\u001b[0m\n\u001b[0;32m    882\u001b[0m       \u001b[0mnew_tracing_count\u001b[0m \u001b[1;33m=\u001b[0m \u001b[0mself\u001b[0m\u001b[1;33m.\u001b[0m\u001b[0mexperimental_get_tracing_count\u001b[0m\u001b[1;33m(\u001b[0m\u001b[1;33m)\u001b[0m\u001b[1;33m\u001b[0m\u001b[1;33m\u001b[0m\u001b[0m\n",
      "\u001b[1;32m~\\AppData\\Roaming\\Python\\Python38\\site-packages\\tensorflow\\python\\eager\\polymorphic_function\\polymorphic_function.py\u001b[0m in \u001b[0;36m_call\u001b[1;34m(self, *args, **kwds)\u001b[0m\n\u001b[0;32m    917\u001b[0m       \u001b[1;31m# In this case we have not created variables on the first call. So we can\u001b[0m\u001b[1;33m\u001b[0m\u001b[1;33m\u001b[0m\u001b[1;33m\u001b[0m\u001b[0m\n\u001b[0;32m    918\u001b[0m       \u001b[1;31m# run the first trace but we should fail if variables are created.\u001b[0m\u001b[1;33m\u001b[0m\u001b[1;33m\u001b[0m\u001b[1;33m\u001b[0m\u001b[0m\n\u001b[1;32m--> 919\u001b[1;33m       \u001b[0mresults\u001b[0m \u001b[1;33m=\u001b[0m \u001b[0mself\u001b[0m\u001b[1;33m.\u001b[0m\u001b[0m_variable_creation_fn\u001b[0m\u001b[1;33m(\u001b[0m\u001b[1;33m*\u001b[0m\u001b[0margs\u001b[0m\u001b[1;33m,\u001b[0m \u001b[1;33m**\u001b[0m\u001b[0mkwds\u001b[0m\u001b[1;33m)\u001b[0m\u001b[1;33m\u001b[0m\u001b[1;33m\u001b[0m\u001b[0m\n\u001b[0m\u001b[0;32m    920\u001b[0m       \u001b[1;32mif\u001b[0m \u001b[0mself\u001b[0m\u001b[1;33m.\u001b[0m\u001b[0m_created_variables\u001b[0m \u001b[1;32mand\u001b[0m \u001b[1;32mnot\u001b[0m \u001b[0mALLOW_DYNAMIC_VARIABLE_CREATION\u001b[0m\u001b[1;33m:\u001b[0m\u001b[1;33m\u001b[0m\u001b[1;33m\u001b[0m\u001b[0m\n\u001b[0;32m    921\u001b[0m         raise ValueError(\"Creating variables on a non-first call to a function\"\n",
      "\u001b[1;32m~\\AppData\\Roaming\\Python\\Python38\\site-packages\\tensorflow\\python\\eager\\polymorphic_function\\tracing_compiler.py\u001b[0m in \u001b[0;36m__call__\u001b[1;34m(self, *args, **kwargs)\u001b[0m\n\u001b[0;32m    132\u001b[0m       (concrete_function,\n\u001b[0;32m    133\u001b[0m        filtered_flat_args) = self._maybe_define_function(args, kwargs)\n\u001b[1;32m--> 134\u001b[1;33m     return concrete_function._call_flat(\n\u001b[0m\u001b[0;32m    135\u001b[0m         filtered_flat_args, captured_inputs=concrete_function.captured_inputs)  # pylint: disable=protected-access\n\u001b[0;32m    136\u001b[0m \u001b[1;33m\u001b[0m\u001b[0m\n",
      "\u001b[1;32m~\\AppData\\Roaming\\Python\\Python38\\site-packages\\tensorflow\\python\\eager\\polymorphic_function\\monomorphic_function.py\u001b[0m in \u001b[0;36m_call_flat\u001b[1;34m(self, args, captured_inputs, cancellation_manager)\u001b[0m\n\u001b[0;32m   1743\u001b[0m         and executing_eagerly):\n\u001b[0;32m   1744\u001b[0m       \u001b[1;31m# No tape is watching; skip to running the function.\u001b[0m\u001b[1;33m\u001b[0m\u001b[1;33m\u001b[0m\u001b[1;33m\u001b[0m\u001b[0m\n\u001b[1;32m-> 1745\u001b[1;33m       return self._build_call_outputs(self._inference_function.call(\n\u001b[0m\u001b[0;32m   1746\u001b[0m           ctx, args, cancellation_manager=cancellation_manager))\n\u001b[0;32m   1747\u001b[0m     forward_backward = self._select_forward_and_backward_functions(\n",
      "\u001b[1;32m~\\AppData\\Roaming\\Python\\Python38\\site-packages\\tensorflow\\python\\eager\\polymorphic_function\\monomorphic_function.py\u001b[0m in \u001b[0;36mcall\u001b[1;34m(self, ctx, args, cancellation_manager)\u001b[0m\n\u001b[0;32m    376\u001b[0m       \u001b[1;32mwith\u001b[0m \u001b[0m_InterpolateFunctionError\u001b[0m\u001b[1;33m(\u001b[0m\u001b[0mself\u001b[0m\u001b[1;33m)\u001b[0m\u001b[1;33m:\u001b[0m\u001b[1;33m\u001b[0m\u001b[1;33m\u001b[0m\u001b[0m\n\u001b[0;32m    377\u001b[0m         \u001b[1;32mif\u001b[0m \u001b[0mcancellation_manager\u001b[0m \u001b[1;32mis\u001b[0m \u001b[1;32mNone\u001b[0m\u001b[1;33m:\u001b[0m\u001b[1;33m\u001b[0m\u001b[1;33m\u001b[0m\u001b[0m\n\u001b[1;32m--> 378\u001b[1;33m           outputs = execute.execute(\n\u001b[0m\u001b[0;32m    379\u001b[0m               \u001b[0mstr\u001b[0m\u001b[1;33m(\u001b[0m\u001b[0mself\u001b[0m\u001b[1;33m.\u001b[0m\u001b[0msignature\u001b[0m\u001b[1;33m.\u001b[0m\u001b[0mname\u001b[0m\u001b[1;33m)\u001b[0m\u001b[1;33m,\u001b[0m\u001b[1;33m\u001b[0m\u001b[1;33m\u001b[0m\u001b[0m\n\u001b[0;32m    380\u001b[0m               \u001b[0mnum_outputs\u001b[0m\u001b[1;33m=\u001b[0m\u001b[0mself\u001b[0m\u001b[1;33m.\u001b[0m\u001b[0m_num_outputs\u001b[0m\u001b[1;33m,\u001b[0m\u001b[1;33m\u001b[0m\u001b[1;33m\u001b[0m\u001b[0m\n",
      "\u001b[1;32m~\\AppData\\Roaming\\Python\\Python38\\site-packages\\tensorflow\\python\\eager\\execute.py\u001b[0m in \u001b[0;36mquick_execute\u001b[1;34m(op_name, num_outputs, inputs, attrs, ctx, name)\u001b[0m\n\u001b[0;32m     50\u001b[0m   \u001b[1;32mtry\u001b[0m\u001b[1;33m:\u001b[0m\u001b[1;33m\u001b[0m\u001b[1;33m\u001b[0m\u001b[0m\n\u001b[0;32m     51\u001b[0m     \u001b[0mctx\u001b[0m\u001b[1;33m.\u001b[0m\u001b[0mensure_initialized\u001b[0m\u001b[1;33m(\u001b[0m\u001b[1;33m)\u001b[0m\u001b[1;33m\u001b[0m\u001b[1;33m\u001b[0m\u001b[0m\n\u001b[1;32m---> 52\u001b[1;33m     tensors = pywrap_tfe.TFE_Py_Execute(ctx._handle, device_name, op_name,\n\u001b[0m\u001b[0;32m     53\u001b[0m                                         inputs, attrs, num_outputs)\n\u001b[0;32m     54\u001b[0m   \u001b[1;32mexcept\u001b[0m \u001b[0mcore\u001b[0m\u001b[1;33m.\u001b[0m\u001b[0m_NotOkStatusException\u001b[0m \u001b[1;32mas\u001b[0m \u001b[0me\u001b[0m\u001b[1;33m:\u001b[0m\u001b[1;33m\u001b[0m\u001b[1;33m\u001b[0m\u001b[0m\n",
      "\u001b[1;31mKeyboardInterrupt\u001b[0m: "
     ]
    }
   ],
   "source": [
    "while tot_frames < max_frames:\n",
    "    winner = 'nobody'\n",
    "    board = np.zeros((6,7))\n",
    "    player = 'plus'\n",
    "    frames_this_game = 0\n",
    "    st = time.time()\n",
    "    game_num += 1\n",
    "    feed = np.zeros((6,7,1))\n",
    "    while winner == 'nobody':\n",
    "        # Select which model ur looking at\n",
    "        mod = players[player]\n",
    "        \n",
    "        # If random, make random move\n",
    "        if np.random.random() < ep:\n",
    "            possible_moves = where_legal(board,player).nonzero()[0]\n",
    "            move = np.random.choice(possible_moves)\n",
    "        # Otherwise, pick the best move\n",
    "        else:\n",
    "            move = best_move(board, player)\n",
    "            \n",
    "        # update frames\n",
    "        buffer[player].append(feed.copy())\n",
    "        \n",
    "        # Make moves\n",
    "        board = update_board(board,player,move)\n",
    "        feed[:,:,0] = board\n",
    "        \n",
    "        # Check for winner\n",
    "        winner = check_for_win(board)\n",
    "        \n",
    "        # update new frames\n",
    "        buffer_nf[player].append(feed.copy())\n",
    "        buffer_ac[player].append(move)\n",
    "        buffer_rw[player].append(1 if winner[2:] == player else -1 if winner != \"nobody\" else 0)\n",
    "        \n",
    "        #update framecount\n",
    "        tot_frames += 1\n",
    "        \n",
    "        # update weights and biases\n",
    "        if tot_frames > warmupframes:\n",
    "            # anneal epsilon\n",
    "            if ep > ep1:\n",
    "                ep -= dep1\n",
    "            elif ep > ep2:\n",
    "                ep -= dep2\n",
    "            for possible_player in [\"plus\", \"minus\"]:\n",
    "                # Select which model ur looking at\n",
    "                mod = players[possible_player]\n",
    "                other_player = \"plus\" if possible_player == \"minus\" else \"minus\"\n",
    "                opp_mod = players[other_player]\n",
    "                # how many frames are there to choose from\n",
    "                lbuff = len(buffer[possible_player])\n",
    "                \n",
    "                # Wait the chances of choosing each sample\n",
    "                p = (np.array(buffer_rw[possible_player]) != 0)*2 + 1\n",
    "                p = p/np.sum(p)\n",
    "                \n",
    "                # Sample random frames\n",
    "                which_choose = np.random.choice(lbuff,batch_size,replace=False, p = p)\n",
    "                \n",
    "                # Grab current frames\n",
    "                current_frames = np.array(buffer[possible_player])[which_choose]\n",
    "                next_frames = np.array(buffer_nf[possible_player])[which_choose]\n",
    "                actions = np.zeros((batch_size,2))\n",
    "                actions[:,0] = np.arange(batch_size)\n",
    "                actions[:,1] = np.array(buffer_ac[possible_player])[which_choose]\n",
    "                rewards = np.array(buffer_rw[possible_player])[which_choose]\n",
    "                \n",
    "\n",
    "                # Construct next frames\n",
    "                # Find opponent's rewards for moves\n",
    "                op_rewards = opp_mod(next_frames, training = False)\n",
    "                \n",
    "                # Check legal moves\n",
    "                legal_moves = np.array([where_legal(next_frame,other_player) for next_frame in np.squeeze(next_frames,3)])\n",
    "                \n",
    "                # Force opponent to only pick from legal moves\n",
    "                op_rewards = opp_mod(next_frames) + 2 * legal_moves\n",
    "                \n",
    "                # Find opponent's best move\n",
    "                op_moves = tf.argmax(op_rewards, axis = 1)\n",
    "                # Play opponent's moves\n",
    "                next_frames = np.array([update_board(next_frames[i], other_player, op_moves[i]) for i in range(batch_size)])\n",
    "                \n",
    "                # Check for winner after opponent's moves\n",
    "                pos_win = [check_for_win(frame)[2:] for frame in np.squeeze(next_frames,3)]\n",
    "                win = np.array([-1 if won == other_player else 1 if won == possible_player else 0 for won in pos_win])\n",
    "                \n",
    "                # Update rewards for if opponent forces win\n",
    "                rewards = rewards*(rewards != 0) + win*(rewards == 0)\n",
    "                \n",
    "                # Return rewards\n",
    "                target_vals = mod(next_frames)\n",
    "                # Make it so target only exists where legal moves exist\n",
    "                where_legal_targets = np.array([where_legal(np.squeeze(next_frame), possible_player) for next_frame in next_frames])\n",
    "                target_vals = np.array(target_vals) + where_legal_targets * 2\n",
    "                target = tf.reduce_max(target_vals,axis = 1) - 2\n",
    "                y = delt*target*(rewards==0) + rewards\n",
    "                \n",
    "                \n",
    "                # gradienttape is pretty cool\n",
    "                # if you ONLY do tf operations inside the tape, then TF can auto-differentiate!\n",
    "                with tf.GradientTape() as tape:\n",
    "                    # make prediction on x data\n",
    "                    pred = tf.gather_nd(mod(current_frames,training=False),actions.astype('int32'))\n",
    "                    # tf.gather_nd is the tf operation to evaluate only particular entries in the array, as specified by the actions list\n",
    "                    loss = mse_loss(y,pred) # calculate mse of truth - prediction\n",
    "                # calculate the gradient of the stuff inside the tape\n",
    "                gradient = tape.gradient(loss,mod.trainable_variables)\n",
    "                # do 1 step of sgd (with the optimizer specified above)\n",
    "                mod.optimizer.apply_gradients(zip(gradient,mod.trainable_variables))\n",
    "        frames_this_game += 1\n",
    "        # swap player\n",
    "        player = 'plus' if player == 'minus' else 'minus'\n",
    "        \n",
    "    # Check if buffer needs to be updated.\n",
    "    for possible_player in [\"plus\", \"minus\"]:\n",
    "        player_buffer = buffer[possible_player]\n",
    "        lbuff = len(player_buffer)\n",
    "        if lbuff > buffn:\n",
    "            excess = lbuff - buffn\n",
    "            buffer[possible_player] = player_buffer[excess:].copy()\n",
    "            buffer_nf[possible_player] = buffer_nf[possible_player][excess:].copy()\n",
    "            buffer_rw[possible_player] = buffer_rw[possible_player][excess:].copy()\n",
    "            buffer_ac[possible_player] = buffer_ac[possible_player][excess:].copy()\n",
    "            len_buff = len(player_buffer)\n",
    "    print(game_num,winner,ep,tot_frames,time.time()-st)"
   ]
  },
  {
   "cell_type": "markdown",
   "id": "4b1ec089",
   "metadata": {},
   "source": [
    "best_value(player, new_board)"
   ]
  },
  {
   "cell_type": "code",
   "execution_count": null,
   "id": "c9b926a5",
   "metadata": {
    "colab": {
     "base_uri": "https://localhost:8080/"
    },
    "id": "tpJg0qRYOD5z",
    "outputId": "38a5ebd2-66b5-4f44-fbb5-3e7f5ea8102e"
   },
   "outputs": [],
   "source": [
    "player1.save(\"player1_final_2.h5\")"
   ]
  },
  {
   "cell_type": "code",
   "execution_count": null,
   "id": "ee7af934",
   "metadata": {
    "colab": {
     "base_uri": "https://localhost:8080/"
    },
    "id": "taAvFK0TOD50",
    "outputId": "74f8d84e-a558-4fc5-f9bb-db8806bf4222"
   },
   "outputs": [],
   "source": [
    "player2.save(\"player2_final_2.h5\")"
   ]
  },
  {
   "cell_type": "markdown",
   "id": "e23779c3",
   "metadata": {},
   "source": [
    "## Read in our trained models"
   ]
  },
  {
   "cell_type": "code",
   "execution_count": 26,
   "id": "9aff75b4",
   "metadata": {},
   "outputs": [
    {
     "name": "stdout",
     "output_type": "stream",
     "text": [
      "Model: \"model_56\"\n",
      "_________________________________________________________________\n",
      " Layer (type)                Output Shape              Param #   \n",
      "=================================================================\n",
      " input_57 (InputLayer)       [(None, 6, 7, 1)]         0         \n",
      "                                                                 \n",
      " conv2d_168 (Conv2D)         (None, 3, 4, 50)          850       \n",
      "                                                                 \n",
      " conv2d_169 (Conv2D)         (None, 2, 3, 75)          15075     \n",
      "                                                                 \n",
      " conv2d_170 (Conv2D)         (None, 1, 2, 100)         30100     \n",
      "                                                                 \n",
      " flatten_56 (Flatten)        (None, 200)               0         \n",
      "                                                                 \n",
      " dense_168 (Dense)           (None, 64)                12864     \n",
      "                                                                 \n",
      " dense_169 (Dense)           (None, 64)                4160      \n",
      "                                                                 \n",
      " dense_170 (Dense)           (None, 14)                910       \n",
      "                                                                 \n",
      "=================================================================\n",
      "Total params: 63,959\n",
      "Trainable params: 63,959\n",
      "Non-trainable params: 0\n",
      "_________________________________________________________________\n"
     ]
    }
   ],
   "source": [
    "player1 = tf.keras.models.load_model(\"player1_final_2.h5\")\n",
    "player1.call = tf.function(player1.call,experimental_relax_shapes=True,reduce_retracing=True)\n",
    "\n",
    "player2 = tf.keras.models.load_model(\"player2_final_2.h5\")\n",
    "player2.call = tf.function(player2.call,experimental_relax_shapes=True,reduce_retracing=True)\n",
    "\n",
    "players = {\"plus\":player1, \"minus\":player2 }\n",
    "\n",
    "player1.summary()"
   ]
  },
  {
   "cell_type": "markdown",
   "id": "1f433134",
   "metadata": {},
   "source": [
    "## Has our model play a game against each other"
   ]
  },
  {
   "cell_type": "code",
   "execution_count": 15,
   "id": "756996e3",
   "metadata": {
    "id": "fZClCQa8OD50"
   },
   "outputs": [],
   "source": [
    "def play_game(model1, model2):\n",
    "    # this is how you can play a game\n",
    "    winner = 'nobody'\n",
    "    board = np.zeros((6,7))\n",
    "    display_board(board)\n",
    "    player = 'plus'\n",
    "    mod = model1\n",
    "    while winner == 'nobody':\n",
    "        move = best_move(board, player)\n",
    "        vf = mod(np.expand_dims(board,[0,3]),training=False)\n",
    "        vf = np.array(vf)\n",
    "        move = np.argmax(vf + 2.1*where_legal(board,player))\n",
    "        time.sleep(2)\n",
    "        board = update_board(board,player,move)\n",
    "        display_board(board)\n",
    "        print(player, move)\n",
    "        print(vf)\n",
    "        winner = check_for_win(board)\n",
    "        if player == 'plus':\n",
    "            player = 'minus'\n",
    "            mod = model2\n",
    "        else:\n",
    "            player = 'plus'\n",
    "            mod = model1\n",
    "    print(winner)"
   ]
  },
  {
   "cell_type": "code",
   "execution_count": 16,
   "id": "d61d7060",
   "metadata": {},
   "outputs": [
    {
     "name": "stdout",
     "output_type": "stream",
     "text": [
      "-------------------------------------------\n",
      "|     |     |     |     |     |     |     |\n",
      "|     |     |     |     |  O  |  X  |     |\n",
      "|     |     |     |     |     |     |     |\n",
      "-------------------------------------------\n",
      "|     |     |     |     |     |     |     |\n",
      "|     |     |     |     |  X  |  O  |     |\n",
      "|     |     |     |     |     |     |     |\n",
      "-------------------------------------------\n",
      "|     |     |     |     |     |     |     |\n",
      "|     |     |     |  O  |  O  |  X  |  X  |\n",
      "|     |     |     |     |     |     |     |\n",
      "-------------------------------------------\n",
      "|     |     |     |     |     |     |     |\n",
      "|     |     |     |  X  |  O  |  X  |  O  |\n",
      "|     |     |     |     |     |     |     |\n",
      "-------------------------------------------\n",
      "|     |     |     |     |     |     |     |\n",
      "|     |     |     |  O  |  X  |  O  |  X  |\n",
      "|     |     |     |     |     |     |     |\n",
      "-------------------------------------------\n",
      "|     |     |     |     |     |     |     |\n",
      "|  O  |     |     |  X  |  X  |  O  |  X  |\n",
      "|     |     |     |     |     |     |     |\n",
      "-------------------------------------------\n",
      "plus 6\n",
      "[[ 0.49513644  0.63598883  0.27150354  0.4446113   0.21893828  0.40617839\n",
      "   0.7994473   0.25680655  0.594817    0.14527828 -0.9223247   0.46589282\n",
      "   0.02416171  0.42006934]]\n",
      "d-plus\n"
     ]
    }
   ],
   "source": [
    "play_game(player1, player2)"
   ]
  },
  {
   "cell_type": "markdown",
   "id": "c1936c05",
   "metadata": {},
   "source": [
    "## Have the human play against our model"
   ]
  },
  {
   "cell_type": "code",
   "execution_count": 17,
   "id": "805d5f1b",
   "metadata": {},
   "outputs": [],
   "source": [
    "def play_model(user, opposing_model):\n",
    "    # this is how you can play a game\n",
    "    winner = 'nobody'\n",
    "    board = np.zeros((6,7))\n",
    "    display_board(board)\n",
    "    player = 'plus'\n",
    "    vf = 0\n",
    "    while winner == 'nobody':\n",
    "        move = best_move(board, player)\n",
    "        if(user == player):\n",
    "            move = int(input(\"what move:\"))\n",
    "        else:\n",
    "            vf = opposing_model(np.expand_dims(board,[0,3]),training=False)\n",
    "            vf = np.array(vf)\n",
    "            move = np.argmax(vf + 2.1*where_legal(board,player))\n",
    "        board = update_board(board,player,move)\n",
    "        display_board(board)\n",
    "        print(vf)\n",
    "        print(move)\n",
    "        winner = check_for_win(board)\n",
    "        if player == 'plus':\n",
    "            player = 'minus'\n",
    "        else:\n",
    "            player = 'plus'\n",
    "    print(winner)"
   ]
  },
  {
   "cell_type": "code",
   "execution_count": 18,
   "id": "a9f584e6",
   "metadata": {},
   "outputs": [
    {
     "name": "stdout",
     "output_type": "stream",
     "text": [
      "-------------------------------------------\n",
      "|     |     |     |     |     |     |     |\n",
      "|     |     |     |     |     |     |     |\n",
      "|     |     |     |     |     |     |     |\n",
      "-------------------------------------------\n",
      "|     |     |     |     |     |     |     |\n",
      "|     |     |     |     |     |     |     |\n",
      "|     |     |     |     |     |     |     |\n",
      "-------------------------------------------\n",
      "|     |     |     |     |     |     |     |\n",
      "|     |     |     |     |  X  |     |     |\n",
      "|     |     |     |     |     |     |     |\n",
      "-------------------------------------------\n",
      "|     |     |     |     |     |     |     |\n",
      "|  O  |     |     |     |  X  |     |     |\n",
      "|     |     |     |     |     |     |     |\n",
      "-------------------------------------------\n",
      "|     |     |     |     |     |     |     |\n",
      "|  O  |     |     |     |  X  |     |     |\n",
      "|     |     |     |     |     |     |     |\n",
      "-------------------------------------------\n",
      "|     |     |     |     |     |     |     |\n",
      "|  O  |  O  |  O  |  X  |  X  |  X  |     |\n",
      "|     |     |     |     |     |     |     |\n",
      "-------------------------------------------\n",
      "[[0.9576533  0.98204255 0.7526799  0.7103369  0.99892455 0.90351164\n",
      "  0.95539516 0.9127037  0.8363995  0.8661019  0.6078557  0.9111982\n",
      "  0.6258143  0.8910403 ]]\n",
      "4\n",
      "v-plus\n"
     ]
    }
   ],
   "source": [
    "play_model(\"minus\",player1)"
   ]
  },
  {
   "cell_type": "markdown",
   "id": "f58923ad",
   "metadata": {},
   "source": [
    "## Has our model play against random"
   ]
  },
  {
   "cell_type": "code",
   "execution_count": 21,
   "id": "46fbed01",
   "metadata": {},
   "outputs": [],
   "source": [
    "def play_against_random(model, model_plays, wait = False, display = False):\n",
    "    # this is how you can play a game\n",
    "    winner = 'nobody'\n",
    "    board = np.zeros((6,7))\n",
    "    if(display):\n",
    "        display_board(board)\n",
    "    player = 'plus'\n",
    "    while winner == 'nobody':\n",
    "        legal_move = False\n",
    "        feed = np.zeros((6,7,1))\n",
    "        feed[:,:,0] = board\n",
    "        if(wait):\n",
    "            time.sleep(1)\n",
    "        while(not legal_move):\n",
    "            if(player == model_plays):\n",
    "                vf = model(np.expand_dims(board,[0,3]),training=False)\n",
    "                vf = np.array(vf)\n",
    "            else:\n",
    "                vf = np.random.rand(1,14)\n",
    "            while(not legal_move):\n",
    "                move = np.argmax(vf)\n",
    "                legal_move = is_legal(board, player, move)\n",
    "                vf[:,move] = -100\n",
    "        board = update_board(board,player,move)\n",
    "        if(display):\n",
    "            display_board(board)\n",
    "        winner = check_for_win(board)\n",
    "        if player == 'plus':\n",
    "            player = 'minus'\n",
    "        else:\n",
    "            player = 'plus'\n",
    "    return winner[2:] == model_plays"
   ]
  },
  {
   "cell_type": "markdown",
   "id": "e5460189",
   "metadata": {},
   "source": [
    "## Tests our model's accuracy against random"
   ]
  },
  {
   "cell_type": "code",
   "execution_count": 24,
   "id": "ae007631",
   "metadata": {},
   "outputs": [
    {
     "data": {
      "text/plain": [
       "0.987"
      ]
     },
     "execution_count": 24,
     "metadata": {},
     "output_type": "execute_result"
    }
   ],
   "source": [
    "np.mean([play_against_random(player1, 'plus') for i in range(1000)])"
   ]
  },
  {
   "cell_type": "code",
   "execution_count": 637,
   "id": "68b43c6f",
   "metadata": {
    "id": "7j5MJKDMOD51"
   },
   "outputs": [
    {
     "data": {
      "text/plain": [
       "0.963"
      ]
     },
     "execution_count": 637,
     "metadata": {},
     "output_type": "execute_result"
    }
   ],
   "source": [
    "np.mean([play_against_random(player2, 'minus') for i in range(1000)])"
   ]
  }
 ],
 "metadata": {
  "accelerator": "GPU",
  "colab": {
   "provenance": []
  },
  "gpuClass": "standard",
  "kernelspec": {
   "display_name": "Python 3 (ipykernel)",
   "language": "python",
   "name": "python3"
  },
  "language_info": {
   "codemirror_mode": {
    "name": "ipython",
    "version": 3
   },
   "file_extension": ".py",
   "mimetype": "text/x-python",
   "name": "python",
   "nbconvert_exporter": "python",
   "pygments_lexer": "ipython3",
   "version": "3.9.12"
  }
 },
 "nbformat": 4,
 "nbformat_minor": 5
}
